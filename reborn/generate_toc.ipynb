{
 "cells": [
  {
   "cell_type": "code",
   "execution_count": 23,
   "metadata": {},
   "outputs": [
    {
     "name": "stdout",
     "output_type": "stream",
     "text": [
      "1. [人生最重要的概念：复利(A01.md)](A01.md)\n",
      "2. [最根本的学习与创作：践行(A02.md)](A02.md)\n",
      "3. [我是如何获得财务自由的？(A03.md)](A03.md)\n",
      "4. [我在互联网上度过的那两辈子……(A04.md)](A04.md)\n",
      "5. [我的几段个人经历以及一点总结(A05.md)](A05.md)\n",
      "6. [主动选择 —— 重生的关键(A06.md)](A06.md)\n",
      "7. [这些年里我到底干过多少蠢事……(A07.md)](A07.md)\n",
      "8. [我们必须持续地主动升级我们自己(A08.md)](A08.md)\n",
      "9. [类比及其方法论(A09.md)](A09.md)\n",
      "10. [概念是一切知识的基石(A10.md)](A10.md)\n",
      "11. [非议、争论，与鄙视链(A11.md)](A11.md)\n",
      "12. [我是如何做到不和老婆吵架的？(A12.md)](A12.md)\n",
      "13. [其实跟外人也很少吵架……(A13.md)](A13.md)\n",
      "14. [成为一个有战友的人(A14-1.md)](A14-1.md)\n",
      "15. [什么是朋友？(A14.md)](A14.md)\n",
      "16. [我的销售概念与方法论(A15.md)](A15.md)\n",
      "17. [如何克制自己的“推销”欲望(A16.md)](A16.md)\n",
      "18. [解决问题的方法论(A17.md)](A17.md)\n",
      "19. [惊喜与创造惊喜的方法论(A18.md)](A18.md)\n",
      "20. [关于圣人与榜样(A19.md)](A19.md)\n",
      "21. [切换模式：苍蝇与蜜蜂的启示(A20.md)](A20.md)\n",
      "22. [调整焦点：有一个不可或缺的方法论(A21.md)](A21.md)\n",
      "23. [如何真正消化一本书？(A22.md)](A22.md)\n",
      "24. [活在未来，而不是当下(A23.md)](A23.md)\n",
      "25. [为什么一定要自学？(A24.md)](A24.md)\n",
      "26. [我当初是怎样错过一辈子的(A25.md)](A25.md)\n",
      "27. [其实，有一把解决所有麻烦的万能钥匙……(A26.md)](A26.md)\n",
      "28. [为什么你最终竟然无法改变自己？(A27.md)](A27.md)\n",
      "29. [为啥人丑就要多读书？(A28.md)](A28.md)\n",
      "30. [反向塑造 —— 暗流涌动的势力(A29.md)](A29.md)\n",
      "31. [什么是更好的知识？(A30.md)](A30.md)\n",
      "32. [不能容错的系统肯定是脆弱的(A31.md)](A31.md)\n",
      "33. [如何研究新生事物？(A32.md)](A32.md)\n",
      "34. [逆境生存指南 —— 特朗博做到了(A33.md)](A33.md)\n",
      "35. [越早越好(B02.md)](B02.md)\n",
      "36. [如何开始(B03.md)](B03.md)\n",
      "37. [躺着赚钱(B04.md)](B04.md)\n",
      "38. [自由意志(B05.md)](B05.md)\n",
      "39. [生活目标(B06.md)](B06.md)\n",
      "40. [注重学识(B07.md)](B07.md)\n",
      "41. [节省与否(B08.md)](B08.md)\n",
      "42. [人丑就要多读书(B09.md)](B09.md)\n",
      "43. [被动支出(B10.md)](B10.md)\n",
      "44. [认识周期(B11.md)](B11.md)\n",
      "45. [性格养成(B12.md)](B12.md)\n",
      "46. [别做“险盲”(B13.md)](B13.md)\n",
      "47. [众创书籍(C01.md)](C01.md)\n",
      "48. [如何回避坏运气(C02.md)](C02.md)\n",
      "49. [选书的基本原则(C03.md)](C03.md)\n",
      "50. [正确高效使用 Google(C04.md)](C04.md)\n",
      "51. [大部分群聊是浪费生命(C05.md)](C05.md)\n"
     ]
    }
   ],
   "source": [
    "with open(\"list.txt\") as l:\n",
    "    fns = l.readlines()\n",
    "\n",
    "i = 1\n",
    "for f in fns:\n",
    "    with open(f.strip()) as l:\n",
    "        title = l.readline().strip().replace('# ', '')\n",
    "        link = f\"{i}. [{title}({f.strip()})]({f.strip()})\"\n",
    "        print(link)\n",
    "    i += 1"
   ]
  }
 ],
 "metadata": {
  "kernelspec": {
   "display_name": "Python 3",
   "language": "python",
   "name": "python3"
  },
  "language_info": {
   "codemirror_mode": {
    "name": "ipython",
    "version": 3
   },
   "file_extension": ".py",
   "mimetype": "text/x-python",
   "name": "python",
   "nbconvert_exporter": "python",
   "pygments_lexer": "ipython3",
   "version": "3.7.4"
  }
 },
 "nbformat": 4,
 "nbformat_minor": 4
}
